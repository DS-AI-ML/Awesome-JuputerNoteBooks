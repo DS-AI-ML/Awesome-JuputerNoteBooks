{
  "nbformat": 4,
  "nbformat_minor": 0,
  "metadata": {
    "colab": {
      "name": "Bank Churn Prediction_SureshPulipaka.ipynb",
      "provenance": []
    },
    "kernelspec": {
      "name": "python3",
      "display_name": "Python 3"
    }
  },
  "cells": [
    {
      "cell_type": "code",
      "metadata": {
        "id": "ZlX4M5HVtUiY"
      },
      "source": [
        "import pandas as pd\n",
        "import seaborn as sn\n",
        "import numpy as np\n",
        "from sklearn.model_selection import train_test_split\n",
        "from sklearn.preprocessing import StandardScaler\n",
        "import keras\n",
        "from keras.models import Sequential\n",
        "from keras.layers import Dense\n",
        "import matplotlib.pyplot as plt\n",
        "from sklearn.metrics import accuracy_score\n",
        "from sklearn.metrics import confusion_matrix\n",
        "from sklearn.metrics import classification_report"
      ],
      "execution_count": 14,
      "outputs": []
    },
    {
      "cell_type": "code",
      "metadata": {
        "id": "GlCEVOVypVF1"
      },
      "source": [
        ""
      ],
      "execution_count": null,
      "outputs": []
    },
    {
      "cell_type": "code",
      "metadata": {
        "id": "LMdYQ5i9qENm",
        "outputId": "1c298655-a3da-4ad1-8b16-b60718177b88",
        "colab": {
          "resources": {
            "http://localhost:8080/nbextensions/google.colab/files.js": {
              "data": "Ly8gQ29weXJpZ2h0IDIwMTcgR29vZ2xlIExMQwovLwovLyBMaWNlbnNlZCB1bmRlciB0aGUgQXBhY2hlIExpY2Vuc2UsIFZlcnNpb24gMi4wICh0aGUgIkxpY2Vuc2UiKTsKLy8geW91IG1heSBub3QgdXNlIHRoaXMgZmlsZSBleGNlcHQgaW4gY29tcGxpYW5jZSB3aXRoIHRoZSBMaWNlbnNlLgovLyBZb3UgbWF5IG9idGFpbiBhIGNvcHkgb2YgdGhlIExpY2Vuc2UgYXQKLy8KLy8gICAgICBodHRwOi8vd3d3LmFwYWNoZS5vcmcvbGljZW5zZXMvTElDRU5TRS0yLjAKLy8KLy8gVW5sZXNzIHJlcXVpcmVkIGJ5IGFwcGxpY2FibGUgbGF3IG9yIGFncmVlZCB0byBpbiB3cml0aW5nLCBzb2Z0d2FyZQovLyBkaXN0cmlidXRlZCB1bmRlciB0aGUgTGljZW5zZSBpcyBkaXN0cmlidXRlZCBvbiBhbiAiQVMgSVMiIEJBU0lTLAovLyBXSVRIT1VUIFdBUlJBTlRJRVMgT1IgQ09ORElUSU9OUyBPRiBBTlkgS0lORCwgZWl0aGVyIGV4cHJlc3Mgb3IgaW1wbGllZC4KLy8gU2VlIHRoZSBMaWNlbnNlIGZvciB0aGUgc3BlY2lmaWMgbGFuZ3VhZ2UgZ292ZXJuaW5nIHBlcm1pc3Npb25zIGFuZAovLyBsaW1pdGF0aW9ucyB1bmRlciB0aGUgTGljZW5zZS4KCi8qKgogKiBAZmlsZW92ZXJ2aWV3IEhlbHBlcnMgZm9yIGdvb2dsZS5jb2xhYiBQeXRob24gbW9kdWxlLgogKi8KKGZ1bmN0aW9uKHNjb3BlKSB7CmZ1bmN0aW9uIHNwYW4odGV4dCwgc3R5bGVBdHRyaWJ1dGVzID0ge30pIHsKICBjb25zdCBlbGVtZW50ID0gZG9jdW1lbnQuY3JlYXRlRWxlbWVudCgnc3BhbicpOwogIGVsZW1lbnQudGV4dENvbnRlbnQgPSB0ZXh0OwogIGZvciAoY29uc3Qga2V5IG9mIE9iamVjdC5rZXlzKHN0eWxlQXR0cmlidXRlcykpIHsKICAgIGVsZW1lbnQuc3R5bGVba2V5XSA9IHN0eWxlQXR0cmlidXRlc1trZXldOwogIH0KICByZXR1cm4gZWxlbWVudDsKfQoKLy8gTWF4IG51bWJlciBvZiBieXRlcyB3aGljaCB3aWxsIGJlIHVwbG9hZGVkIGF0IGEgdGltZS4KY29uc3QgTUFYX1BBWUxPQURfU0laRSA9IDEwMCAqIDEwMjQ7CgpmdW5jdGlvbiBfdXBsb2FkRmlsZXMoaW5wdXRJZCwgb3V0cHV0SWQpIHsKICBjb25zdCBzdGVwcyA9IHVwbG9hZEZpbGVzU3RlcChpbnB1dElkLCBvdXRwdXRJZCk7CiAgY29uc3Qgb3V0cHV0RWxlbWVudCA9IGRvY3VtZW50LmdldEVsZW1lbnRCeUlkKG91dHB1dElkKTsKICAvLyBDYWNoZSBzdGVwcyBvbiB0aGUgb3V0cHV0RWxlbWVudCB0byBtYWtlIGl0IGF2YWlsYWJsZSBmb3IgdGhlIG5leHQgY2FsbAogIC8vIHRvIHVwbG9hZEZpbGVzQ29udGludWUgZnJvbSBQeXRob24uCiAgb3V0cHV0RWxlbWVudC5zdGVwcyA9IHN0ZXBzOwoKICByZXR1cm4gX3VwbG9hZEZpbGVzQ29udGludWUob3V0cHV0SWQpOwp9CgovLyBUaGlzIGlzIHJvdWdobHkgYW4gYXN5bmMgZ2VuZXJhdG9yIChub3Qgc3VwcG9ydGVkIGluIHRoZSBicm93c2VyIHlldCksCi8vIHdoZXJlIHRoZXJlIGFyZSBtdWx0aXBsZSBhc3luY2hyb25vdXMgc3RlcHMgYW5kIHRoZSBQeXRob24gc2lkZSBpcyBnb2luZwovLyB0byBwb2xsIGZvciBjb21wbGV0aW9uIG9mIGVhY2ggc3RlcC4KLy8gVGhpcyB1c2VzIGEgUHJvbWlzZSB0byBibG9jayB0aGUgcHl0aG9uIHNpZGUgb24gY29tcGxldGlvbiBvZiBlYWNoIHN0ZXAsCi8vIHRoZW4gcGFzc2VzIHRoZSByZXN1bHQgb2YgdGhlIHByZXZpb3VzIHN0ZXAgYXMgdGhlIGlucHV0IHRvIHRoZSBuZXh0IHN0ZXAuCmZ1bmN0aW9uIF91cGxvYWRGaWxlc0NvbnRpbnVlKG91dHB1dElkKSB7CiAgY29uc3Qgb3V0cHV0RWxlbWVudCA9IGRvY3VtZW50LmdldEVsZW1lbnRCeUlkKG91dHB1dElkKTsKICBjb25zdCBzdGVwcyA9IG91dHB1dEVsZW1lbnQuc3RlcHM7CgogIGNvbnN0IG5leHQgPSBzdGVwcy5uZXh0KG91dHB1dEVsZW1lbnQubGFzdFByb21pc2VWYWx1ZSk7CiAgcmV0dXJuIFByb21pc2UucmVzb2x2ZShuZXh0LnZhbHVlLnByb21pc2UpLnRoZW4oKHZhbHVlKSA9PiB7CiAgICAvLyBDYWNoZSB0aGUgbGFzdCBwcm9taXNlIHZhbHVlIHRvIG1ha2UgaXQgYXZhaWxhYmxlIHRvIHRoZSBuZXh0CiAgICAvLyBzdGVwIG9mIHRoZSBnZW5lcmF0b3IuCiAgICBvdXRwdXRFbGVtZW50Lmxhc3RQcm9taXNlVmFsdWUgPSB2YWx1ZTsKICAgIHJldHVybiBuZXh0LnZhbHVlLnJlc3BvbnNlOwogIH0pOwp9CgovKioKICogR2VuZXJhdG9yIGZ1bmN0aW9uIHdoaWNoIGlzIGNhbGxlZCBiZXR3ZWVuIGVhY2ggYXN5bmMgc3RlcCBvZiB0aGUgdXBsb2FkCiAqIHByb2Nlc3MuCiAqIEBwYXJhbSB7c3RyaW5nfSBpbnB1dElkIEVsZW1lbnQgSUQgb2YgdGhlIGlucHV0IGZpbGUgcGlja2VyIGVsZW1lbnQuCiAqIEBwYXJhbSB7c3RyaW5nfSBvdXRwdXRJZCBFbGVtZW50IElEIG9mIHRoZSBvdXRwdXQgZGlzcGxheS4KICogQHJldHVybiB7IUl0ZXJhYmxlPCFPYmplY3Q+fSBJdGVyYWJsZSBvZiBuZXh0IHN0ZXBzLgogKi8KZnVuY3Rpb24qIHVwbG9hZEZpbGVzU3RlcChpbnB1dElkLCBvdXRwdXRJZCkgewogIGNvbnN0IGlucHV0RWxlbWVudCA9IGRvY3VtZW50LmdldEVsZW1lbnRCeUlkKGlucHV0SWQpOwogIGlucHV0RWxlbWVudC5kaXNhYmxlZCA9IGZhbHNlOwoKICBjb25zdCBvdXRwdXRFbGVtZW50ID0gZG9jdW1lbnQuZ2V0RWxlbWVudEJ5SWQob3V0cHV0SWQpOwogIG91dHB1dEVsZW1lbnQuaW5uZXJIVE1MID0gJyc7CgogIGNvbnN0IHBpY2tlZFByb21pc2UgPSBuZXcgUHJvbWlzZSgocmVzb2x2ZSkgPT4gewogICAgaW5wdXRFbGVtZW50LmFkZEV2ZW50TGlzdGVuZXIoJ2NoYW5nZScsIChlKSA9PiB7CiAgICAgIHJlc29sdmUoZS50YXJnZXQuZmlsZXMpOwogICAgfSk7CiAgfSk7CgogIGNvbnN0IGNhbmNlbCA9IGRvY3VtZW50LmNyZWF0ZUVsZW1lbnQoJ2J1dHRvbicpOwogIGlucHV0RWxlbWVudC5wYXJlbnRFbGVtZW50LmFwcGVuZENoaWxkKGNhbmNlbCk7CiAgY2FuY2VsLnRleHRDb250ZW50ID0gJ0NhbmNlbCB1cGxvYWQnOwogIGNvbnN0IGNhbmNlbFByb21pc2UgPSBuZXcgUHJvbWlzZSgocmVzb2x2ZSkgPT4gewogICAgY2FuY2VsLm9uY2xpY2sgPSAoKSA9PiB7CiAgICAgIHJlc29sdmUobnVsbCk7CiAgICB9OwogIH0pOwoKICAvLyBXYWl0IGZvciB0aGUgdXNlciB0byBwaWNrIHRoZSBmaWxlcy4KICBjb25zdCBmaWxlcyA9IHlpZWxkIHsKICAgIHByb21pc2U6IFByb21pc2UucmFjZShbcGlja2VkUHJvbWlzZSwgY2FuY2VsUHJvbWlzZV0pLAogICAgcmVzcG9uc2U6IHsKICAgICAgYWN0aW9uOiAnc3RhcnRpbmcnLAogICAgfQogIH07CgogIGNhbmNlbC5yZW1vdmUoKTsKCiAgLy8gRGlzYWJsZSB0aGUgaW5wdXQgZWxlbWVudCBzaW5jZSBmdXJ0aGVyIHBpY2tzIGFyZSBub3QgYWxsb3dlZC4KICBpbnB1dEVsZW1lbnQuZGlzYWJsZWQgPSB0cnVlOwoKICBpZiAoIWZpbGVzKSB7CiAgICByZXR1cm4gewogICAgICByZXNwb25zZTogewogICAgICAgIGFjdGlvbjogJ2NvbXBsZXRlJywKICAgICAgfQogICAgfTsKICB9CgogIGZvciAoY29uc3QgZmlsZSBvZiBmaWxlcykgewogICAgY29uc3QgbGkgPSBkb2N1bWVudC5jcmVhdGVFbGVtZW50KCdsaScpOwogICAgbGkuYXBwZW5kKHNwYW4oZmlsZS5uYW1lLCB7Zm9udFdlaWdodDogJ2JvbGQnfSkpOwogICAgbGkuYXBwZW5kKHNwYW4oCiAgICAgICAgYCgke2ZpbGUudHlwZSB8fCAnbi9hJ30pIC0gJHtmaWxlLnNpemV9IGJ5dGVzLCBgICsKICAgICAgICBgbGFzdCBtb2RpZmllZDogJHsKICAgICAgICAgICAgZmlsZS5sYXN0TW9kaWZpZWREYXRlID8gZmlsZS5sYXN0TW9kaWZpZWREYXRlLnRvTG9jYWxlRGF0ZVN0cmluZygpIDoKICAgICAgICAgICAgICAgICAgICAgICAgICAgICAgICAgICAgJ24vYSd9IC0gYCkpOwogICAgY29uc3QgcGVyY2VudCA9IHNwYW4oJzAlIGRvbmUnKTsKICAgIGxpLmFwcGVuZENoaWxkKHBlcmNlbnQpOwoKICAgIG91dHB1dEVsZW1lbnQuYXBwZW5kQ2hpbGQobGkpOwoKICAgIGNvbnN0IGZpbGVEYXRhUHJvbWlzZSA9IG5ldyBQcm9taXNlKChyZXNvbHZlKSA9PiB7CiAgICAgIGNvbnN0IHJlYWRlciA9IG5ldyBGaWxlUmVhZGVyKCk7CiAgICAgIHJlYWRlci5vbmxvYWQgPSAoZSkgPT4gewogICAgICAgIHJlc29sdmUoZS50YXJnZXQucmVzdWx0KTsKICAgICAgfTsKICAgICAgcmVhZGVyLnJlYWRBc0FycmF5QnVmZmVyKGZpbGUpOwogICAgfSk7CiAgICAvLyBXYWl0IGZvciB0aGUgZGF0YSB0byBiZSByZWFkeS4KICAgIGxldCBmaWxlRGF0YSA9IHlpZWxkIHsKICAgICAgcHJvbWlzZTogZmlsZURhdGFQcm9taXNlLAogICAgICByZXNwb25zZTogewogICAgICAgIGFjdGlvbjogJ2NvbnRpbnVlJywKICAgICAgfQogICAgfTsKCiAgICAvLyBVc2UgYSBjaHVua2VkIHNlbmRpbmcgdG8gYXZvaWQgbWVzc2FnZSBzaXplIGxpbWl0cy4gU2VlIGIvNjIxMTU2NjAuCiAgICBsZXQgcG9zaXRpb24gPSAwOwogICAgd2hpbGUgKHBvc2l0aW9uIDwgZmlsZURhdGEuYnl0ZUxlbmd0aCkgewogICAgICBjb25zdCBsZW5ndGggPSBNYXRoLm1pbihmaWxlRGF0YS5ieXRlTGVuZ3RoIC0gcG9zaXRpb24sIE1BWF9QQVlMT0FEX1NJWkUpOwogICAgICBjb25zdCBjaHVuayA9IG5ldyBVaW50OEFycmF5KGZpbGVEYXRhLCBwb3NpdGlvbiwgbGVuZ3RoKTsKICAgICAgcG9zaXRpb24gKz0gbGVuZ3RoOwoKICAgICAgY29uc3QgYmFzZTY0ID0gYnRvYShTdHJpbmcuZnJvbUNoYXJDb2RlLmFwcGx5KG51bGwsIGNodW5rKSk7CiAgICAgIHlpZWxkIHsKICAgICAgICByZXNwb25zZTogewogICAgICAgICAgYWN0aW9uOiAnYXBwZW5kJywKICAgICAgICAgIGZpbGU6IGZpbGUubmFtZSwKICAgICAgICAgIGRhdGE6IGJhc2U2NCwKICAgICAgICB9LAogICAgICB9OwogICAgICBwZXJjZW50LnRleHRDb250ZW50ID0KICAgICAgICAgIGAke01hdGgucm91bmQoKHBvc2l0aW9uIC8gZmlsZURhdGEuYnl0ZUxlbmd0aCkgKiAxMDApfSUgZG9uZWA7CiAgICB9CiAgfQoKICAvLyBBbGwgZG9uZS4KICB5aWVsZCB7CiAgICByZXNwb25zZTogewogICAgICBhY3Rpb246ICdjb21wbGV0ZScsCiAgICB9CiAgfTsKfQoKc2NvcGUuZ29vZ2xlID0gc2NvcGUuZ29vZ2xlIHx8IHt9OwpzY29wZS5nb29nbGUuY29sYWIgPSBzY29wZS5nb29nbGUuY29sYWIgfHwge307CnNjb3BlLmdvb2dsZS5jb2xhYi5fZmlsZXMgPSB7CiAgX3VwbG9hZEZpbGVzLAogIF91cGxvYWRGaWxlc0NvbnRpbnVlLAp9Owp9KShzZWxmKTsK",
              "ok": true,
              "headers": [
                [
                  "content-type",
                  "application/javascript"
                ]
              ],
              "status": 200,
              "status_text": ""
            }
          },
          "base_uri": "https://localhost:8080/",
          "height": 72
        }
      },
      "source": [
        "from google.colab import files\n",
        "uploaded = files.upload()"
      ],
      "execution_count": 15,
      "outputs": [
        {
          "output_type": "display_data",
          "data": {
            "text/html": [
              "\n",
              "     <input type=\"file\" id=\"files-b11fdc51-0257-4eeb-83a9-cf3273be2fe9\" name=\"files[]\" multiple disabled\n",
              "        style=\"border:none\" />\n",
              "     <output id=\"result-b11fdc51-0257-4eeb-83a9-cf3273be2fe9\">\n",
              "      Upload widget is only available when the cell has been executed in the\n",
              "      current browser session. Please rerun this cell to enable.\n",
              "      </output>\n",
              "      <script src=\"/nbextensions/google.colab/files.js\"></script> "
            ],
            "text/plain": [
              "<IPython.core.display.HTML object>"
            ]
          },
          "metadata": {
            "tags": []
          }
        },
        {
          "output_type": "stream",
          "text": [
            "Saving bank.csv to bank.csv\n"
          ],
          "name": "stdout"
        }
      ]
    },
    {
      "cell_type": "code",
      "metadata": {
        "id": "pVXZocf3CHrx"
      },
      "source": [
        "from google.colab import files\n",
        "uploaded = files.upload()"
      ],
      "execution_count": null,
      "outputs": []
    },
    {
      "cell_type": "code",
      "metadata": {
        "id": "BKUr8rSMtfGO",
        "outputId": "ac0281d7-173e-4f46-8c3e-fb8ce1f58368",
        "colab": {
          "base_uri": "https://localhost:8080/",
          "height": 359
        }
      },
      "source": [
        "\n",
        "dataset = pd.read_csv('bank.csv')\n",
        "dataset.head(10)"
      ],
      "execution_count": 18,
      "outputs": [
        {
          "output_type": "execute_result",
          "data": {
            "text/html": [
              "<div>\n",
              "<style scoped>\n",
              "    .dataframe tbody tr th:only-of-type {\n",
              "        vertical-align: middle;\n",
              "    }\n",
              "\n",
              "    .dataframe tbody tr th {\n",
              "        vertical-align: top;\n",
              "    }\n",
              "\n",
              "    .dataframe thead th {\n",
              "        text-align: right;\n",
              "    }\n",
              "</style>\n",
              "<table border=\"1\" class=\"dataframe\">\n",
              "  <thead>\n",
              "    <tr style=\"text-align: right;\">\n",
              "      <th></th>\n",
              "      <th>RowNumber</th>\n",
              "      <th>CustomerId</th>\n",
              "      <th>Surname</th>\n",
              "      <th>CreditScore</th>\n",
              "      <th>Geography</th>\n",
              "      <th>Gender</th>\n",
              "      <th>Age</th>\n",
              "      <th>Tenure</th>\n",
              "      <th>Balance</th>\n",
              "      <th>NumOfProducts</th>\n",
              "      <th>HasCrCard</th>\n",
              "      <th>IsActiveMember</th>\n",
              "      <th>EstimatedSalary</th>\n",
              "      <th>Exited</th>\n",
              "    </tr>\n",
              "  </thead>\n",
              "  <tbody>\n",
              "    <tr>\n",
              "      <th>0</th>\n",
              "      <td>1</td>\n",
              "      <td>15634602</td>\n",
              "      <td>Hargrave</td>\n",
              "      <td>619</td>\n",
              "      <td>France</td>\n",
              "      <td>Female</td>\n",
              "      <td>42</td>\n",
              "      <td>2</td>\n",
              "      <td>0.00</td>\n",
              "      <td>1</td>\n",
              "      <td>1</td>\n",
              "      <td>1</td>\n",
              "      <td>101348.88</td>\n",
              "      <td>1</td>\n",
              "    </tr>\n",
              "    <tr>\n",
              "      <th>1</th>\n",
              "      <td>2</td>\n",
              "      <td>15647311</td>\n",
              "      <td>Hill</td>\n",
              "      <td>608</td>\n",
              "      <td>Spain</td>\n",
              "      <td>Female</td>\n",
              "      <td>41</td>\n",
              "      <td>1</td>\n",
              "      <td>83807.86</td>\n",
              "      <td>1</td>\n",
              "      <td>0</td>\n",
              "      <td>1</td>\n",
              "      <td>112542.58</td>\n",
              "      <td>0</td>\n",
              "    </tr>\n",
              "    <tr>\n",
              "      <th>2</th>\n",
              "      <td>3</td>\n",
              "      <td>15619304</td>\n",
              "      <td>Onio</td>\n",
              "      <td>502</td>\n",
              "      <td>France</td>\n",
              "      <td>Female</td>\n",
              "      <td>42</td>\n",
              "      <td>8</td>\n",
              "      <td>159660.80</td>\n",
              "      <td>3</td>\n",
              "      <td>1</td>\n",
              "      <td>0</td>\n",
              "      <td>113931.57</td>\n",
              "      <td>1</td>\n",
              "    </tr>\n",
              "    <tr>\n",
              "      <th>3</th>\n",
              "      <td>4</td>\n",
              "      <td>15701354</td>\n",
              "      <td>Boni</td>\n",
              "      <td>699</td>\n",
              "      <td>France</td>\n",
              "      <td>Female</td>\n",
              "      <td>39</td>\n",
              "      <td>1</td>\n",
              "      <td>0.00</td>\n",
              "      <td>2</td>\n",
              "      <td>0</td>\n",
              "      <td>0</td>\n",
              "      <td>93826.63</td>\n",
              "      <td>0</td>\n",
              "    </tr>\n",
              "    <tr>\n",
              "      <th>4</th>\n",
              "      <td>5</td>\n",
              "      <td>15737888</td>\n",
              "      <td>Mitchell</td>\n",
              "      <td>850</td>\n",
              "      <td>Spain</td>\n",
              "      <td>Female</td>\n",
              "      <td>43</td>\n",
              "      <td>2</td>\n",
              "      <td>125510.82</td>\n",
              "      <td>1</td>\n",
              "      <td>1</td>\n",
              "      <td>1</td>\n",
              "      <td>79084.10</td>\n",
              "      <td>0</td>\n",
              "    </tr>\n",
              "    <tr>\n",
              "      <th>5</th>\n",
              "      <td>6</td>\n",
              "      <td>15574012</td>\n",
              "      <td>Chu</td>\n",
              "      <td>645</td>\n",
              "      <td>Spain</td>\n",
              "      <td>Male</td>\n",
              "      <td>44</td>\n",
              "      <td>8</td>\n",
              "      <td>113755.78</td>\n",
              "      <td>2</td>\n",
              "      <td>1</td>\n",
              "      <td>0</td>\n",
              "      <td>149756.71</td>\n",
              "      <td>1</td>\n",
              "    </tr>\n",
              "    <tr>\n",
              "      <th>6</th>\n",
              "      <td>7</td>\n",
              "      <td>15592531</td>\n",
              "      <td>Bartlett</td>\n",
              "      <td>822</td>\n",
              "      <td>France</td>\n",
              "      <td>Male</td>\n",
              "      <td>50</td>\n",
              "      <td>7</td>\n",
              "      <td>0.00</td>\n",
              "      <td>2</td>\n",
              "      <td>1</td>\n",
              "      <td>1</td>\n",
              "      <td>10062.80</td>\n",
              "      <td>0</td>\n",
              "    </tr>\n",
              "    <tr>\n",
              "      <th>7</th>\n",
              "      <td>8</td>\n",
              "      <td>15656148</td>\n",
              "      <td>Obinna</td>\n",
              "      <td>376</td>\n",
              "      <td>Germany</td>\n",
              "      <td>Female</td>\n",
              "      <td>29</td>\n",
              "      <td>4</td>\n",
              "      <td>115046.74</td>\n",
              "      <td>4</td>\n",
              "      <td>1</td>\n",
              "      <td>0</td>\n",
              "      <td>119346.88</td>\n",
              "      <td>1</td>\n",
              "    </tr>\n",
              "    <tr>\n",
              "      <th>8</th>\n",
              "      <td>9</td>\n",
              "      <td>15792365</td>\n",
              "      <td>He</td>\n",
              "      <td>501</td>\n",
              "      <td>France</td>\n",
              "      <td>Male</td>\n",
              "      <td>44</td>\n",
              "      <td>4</td>\n",
              "      <td>142051.07</td>\n",
              "      <td>2</td>\n",
              "      <td>0</td>\n",
              "      <td>1</td>\n",
              "      <td>74940.50</td>\n",
              "      <td>0</td>\n",
              "    </tr>\n",
              "    <tr>\n",
              "      <th>9</th>\n",
              "      <td>10</td>\n",
              "      <td>15592389</td>\n",
              "      <td>H?</td>\n",
              "      <td>684</td>\n",
              "      <td>France</td>\n",
              "      <td>Male</td>\n",
              "      <td>27</td>\n",
              "      <td>2</td>\n",
              "      <td>134603.88</td>\n",
              "      <td>1</td>\n",
              "      <td>1</td>\n",
              "      <td>1</td>\n",
              "      <td>71725.73</td>\n",
              "      <td>0</td>\n",
              "    </tr>\n",
              "  </tbody>\n",
              "</table>\n",
              "</div>"
            ],
            "text/plain": [
              "   RowNumber  CustomerId   Surname  ...  IsActiveMember EstimatedSalary Exited\n",
              "0          1    15634602  Hargrave  ...               1       101348.88      1\n",
              "1          2    15647311      Hill  ...               1       112542.58      0\n",
              "2          3    15619304      Onio  ...               0       113931.57      1\n",
              "3          4    15701354      Boni  ...               0        93826.63      0\n",
              "4          5    15737888  Mitchell  ...               1        79084.10      0\n",
              "5          6    15574012       Chu  ...               0       149756.71      1\n",
              "6          7    15592531  Bartlett  ...               1        10062.80      0\n",
              "7          8    15656148    Obinna  ...               0       119346.88      1\n",
              "8          9    15792365        He  ...               1        74940.50      0\n",
              "9         10    15592389        H?  ...               1        71725.73      0\n",
              "\n",
              "[10 rows x 14 columns]"
            ]
          },
          "metadata": {
            "tags": []
          },
          "execution_count": 18
        }
      ]
    },
    {
      "cell_type": "markdown",
      "metadata": {
        "id": "vxqli4h3n2VU"
      },
      "source": [
        "Removeing RowNumber,CustomerId,Surname"
      ]
    },
    {
      "cell_type": "code",
      "metadata": {
        "id": "6x80nPElDsz6",
        "outputId": "d6ce51a0-d379-4cd7-e891-be5615a00278",
        "colab": {
          "base_uri": "https://localhost:8080/",
          "height": 204
        }
      },
      "source": [
        "X = dataset.iloc[:,3:13]\n",
        "target = np.array(target)\n",
        "display(X.head())"
      ],
      "execution_count": 28,
      "outputs": [
        {
          "output_type": "display_data",
          "data": {
            "text/html": [
              "<div>\n",
              "<style scoped>\n",
              "    .dataframe tbody tr th:only-of-type {\n",
              "        vertical-align: middle;\n",
              "    }\n",
              "\n",
              "    .dataframe tbody tr th {\n",
              "        vertical-align: top;\n",
              "    }\n",
              "\n",
              "    .dataframe thead th {\n",
              "        text-align: right;\n",
              "    }\n",
              "</style>\n",
              "<table border=\"1\" class=\"dataframe\">\n",
              "  <thead>\n",
              "    <tr style=\"text-align: right;\">\n",
              "      <th></th>\n",
              "      <th>CreditScore</th>\n",
              "      <th>Geography</th>\n",
              "      <th>Gender</th>\n",
              "      <th>Age</th>\n",
              "      <th>Tenure</th>\n",
              "      <th>Balance</th>\n",
              "      <th>NumOfProducts</th>\n",
              "      <th>HasCrCard</th>\n",
              "      <th>IsActiveMember</th>\n",
              "      <th>EstimatedSalary</th>\n",
              "    </tr>\n",
              "  </thead>\n",
              "  <tbody>\n",
              "    <tr>\n",
              "      <th>0</th>\n",
              "      <td>619</td>\n",
              "      <td>France</td>\n",
              "      <td>Female</td>\n",
              "      <td>42</td>\n",
              "      <td>2</td>\n",
              "      <td>0.00</td>\n",
              "      <td>1</td>\n",
              "      <td>1</td>\n",
              "      <td>1</td>\n",
              "      <td>101348.88</td>\n",
              "    </tr>\n",
              "    <tr>\n",
              "      <th>1</th>\n",
              "      <td>608</td>\n",
              "      <td>Spain</td>\n",
              "      <td>Female</td>\n",
              "      <td>41</td>\n",
              "      <td>1</td>\n",
              "      <td>83807.86</td>\n",
              "      <td>1</td>\n",
              "      <td>0</td>\n",
              "      <td>1</td>\n",
              "      <td>112542.58</td>\n",
              "    </tr>\n",
              "    <tr>\n",
              "      <th>2</th>\n",
              "      <td>502</td>\n",
              "      <td>France</td>\n",
              "      <td>Female</td>\n",
              "      <td>42</td>\n",
              "      <td>8</td>\n",
              "      <td>159660.80</td>\n",
              "      <td>3</td>\n",
              "      <td>1</td>\n",
              "      <td>0</td>\n",
              "      <td>113931.57</td>\n",
              "    </tr>\n",
              "    <tr>\n",
              "      <th>3</th>\n",
              "      <td>699</td>\n",
              "      <td>France</td>\n",
              "      <td>Female</td>\n",
              "      <td>39</td>\n",
              "      <td>1</td>\n",
              "      <td>0.00</td>\n",
              "      <td>2</td>\n",
              "      <td>0</td>\n",
              "      <td>0</td>\n",
              "      <td>93826.63</td>\n",
              "    </tr>\n",
              "    <tr>\n",
              "      <th>4</th>\n",
              "      <td>850</td>\n",
              "      <td>Spain</td>\n",
              "      <td>Female</td>\n",
              "      <td>43</td>\n",
              "      <td>2</td>\n",
              "      <td>125510.82</td>\n",
              "      <td>1</td>\n",
              "      <td>1</td>\n",
              "      <td>1</td>\n",
              "      <td>79084.10</td>\n",
              "    </tr>\n",
              "  </tbody>\n",
              "</table>\n",
              "</div>"
            ],
            "text/plain": [
              "   CreditScore Geography  Gender  ...  HasCrCard  IsActiveMember  EstimatedSalary\n",
              "0          619    France  Female  ...          1               1        101348.88\n",
              "1          608     Spain  Female  ...          0               1        112542.58\n",
              "2          502    France  Female  ...          1               0        113931.57\n",
              "3          699    France  Female  ...          0               0         93826.63\n",
              "4          850     Spain  Female  ...          1               1         79084.10\n",
              "\n",
              "[5 rows x 10 columns]"
            ]
          },
          "metadata": {
            "tags": []
          }
        }
      ]
    },
    {
      "cell_type": "code",
      "metadata": {
        "id": "b9qa4LhYwL0P",
        "outputId": "614b86cd-cba1-468c-e7c3-28dddfdbf7d3",
        "colab": {
          "base_uri": "https://localhost:8080/",
          "height": 122
        }
      },
      "source": [
        "X_columns = dataset.columns.tolist()[3:12]\n",
        "y_columns = dataset.columns.tolist()[-1:]\n",
        "print(f'All columns: {dataset.columns.tolist()}')\n",
        "print()\n",
        "print(f'X values: {X_columns}')\n",
        "print()\n",
        "print(f'y values: {y_columns}')"
      ],
      "execution_count": 30,
      "outputs": [
        {
          "output_type": "stream",
          "text": [
            "All columns: ['RowNumber', 'CustomerId', 'Surname', 'CreditScore', 'Geography', 'Gender', 'Age', 'Tenure', 'Balance', 'NumOfProducts', 'HasCrCard', 'IsActiveMember', 'EstimatedSalary', 'Exited']\n",
            "\n",
            "X values: ['CreditScore', 'Geography', 'Gender', 'Age', 'Tenure', 'Balance', 'NumOfProducts', 'HasCrCard', 'IsActiveMember']\n",
            "\n",
            "y values: ['Exited']\n"
          ],
          "name": "stdout"
        }
      ]
    },
    {
      "cell_type": "code",
      "metadata": {
        "id": "s98u18vZwUqz"
      },
      "source": [
        "X = dataset[X_columns].values # Credit Score through Estimated Salary\n",
        "y = dataset[y_columns].values # Exited"
      ],
      "execution_count": 32,
      "outputs": []
    },
    {
      "cell_type": "code",
      "metadata": {
        "id": "rQFtFUOEwcrt",
        "outputId": "7e6073d2-7425-46d8-86fc-9fd065b7fb68",
        "colab": {
          "base_uri": "https://localhost:8080/",
          "height": 51
        }
      },
      "source": [
        "# Encoding categorical (string based) data. Country: there are 3 options: France, Spain and Germany\n",
        "# This will convert those strings into scalar values for analysis\n",
        "print(X[:8,1], '... will now become: ')\n",
        "from sklearn.preprocessing import LabelEncoder\n",
        "label_X_country_encoder = LabelEncoder()\n",
        "X[:,1] = label_X_country_encoder.fit_transform(X[:,1])\n",
        "print(X[:8,1])"
      ],
      "execution_count": 33,
      "outputs": [
        {
          "output_type": "stream",
          "text": [
            "['France' 'Spain' 'France' 'France' 'Spain' 'Spain' 'France' 'Germany'] ... will now become: \n",
            "[0 2 0 0 2 2 0 1]\n"
          ],
          "name": "stdout"
        }
      ]
    },
    {
      "cell_type": "code",
      "metadata": {
        "id": "hj5seKfuwjqX",
        "outputId": "a68d6095-f58b-410d-8f5f-2d9d040d9b32",
        "colab": {
          "base_uri": "https://localhost:8080/",
          "height": 51
        }
      },
      "source": [
        "# We will do the same thing for gender. this will be binary in this dataset\n",
        "print(X[:6,2], '... will now become: ')\n",
        "from sklearn.preprocessing import LabelEncoder\n",
        "label_X_gender_encoder = LabelEncoder()\n",
        "X[:,2] = label_X_gender_encoder.fit_transform(X[:,2])\n",
        "print(X[:6,2])"
      ],
      "execution_count": 34,
      "outputs": [
        {
          "output_type": "stream",
          "text": [
            "['Female' 'Female' 'Female' 'Female' 'Female' 'Male'] ... will now become: \n",
            "[0 0 0 0 0 1]\n"
          ],
          "name": "stdout"
        }
      ]
    },
    {
      "cell_type": "markdown",
      "metadata": {
        "id": "Ro8wZ_AUF8Cv"
      },
      "source": [
        "Feature scaling is a method used to standardize the range of independent variables or features of data. It is basically scaling all the dimensions to be even so that one independent variable does not dominate another."
      ]
    },
    {
      "cell_type": "code",
      "metadata": {
        "id": "sZm_rTDTF9-E"
      },
      "source": [
        "from sklearn.preprocessing import StandardScaler, OneHotEncoder\n",
        "from sklearn.compose import ColumnTransformer\n",
        "from sklearn.pipeline import Pipeline\n",
        "\n",
        "\n",
        "pipeline = Pipeline(\n",
        "    [('Categorizer', ColumnTransformer(\n",
        "         [ # Gender\n",
        "          (\"Gender Label encoder\", OneHotEncoder(categories='auto', drop='first'), [2]),\n",
        "           # Geography\n",
        "          (\"Geography One Hot\", OneHotEncoder(categories='auto', drop='first'), [1])\n",
        "         ], remainder='passthrough', n_jobs=1)),\n",
        "     # Standard Scaler for the classifier\n",
        "    ('Normalizer', StandardScaler())\n",
        "    ])"
      ],
      "execution_count": 35,
      "outputs": []
    },
    {
      "cell_type": "code",
      "metadata": {
        "id": "a1Kd9xlJGGSN"
      },
      "source": [
        "X = pipeline.fit_transform(X)"
      ],
      "execution_count": 36,
      "outputs": []
    },
    {
      "cell_type": "code",
      "metadata": {
        "id": "nlShY45eGLgU"
      },
      "source": [
        "# Splitting the dataset into the Training and Testing set.\n",
        "from sklearn.model_selection import train_test_split\n",
        "X_train, X_test, y_train, y_test = train_test_split(X,y, test_size = 0.2, random_state = 0)"
      ],
      "execution_count": 37,
      "outputs": []
    },
    {
      "cell_type": "code",
      "metadata": {
        "id": "zPntKq6SGPVe",
        "outputId": "15f79eb2-008c-46b6-d82d-c04675415280",
        "colab": {
          "base_uri": "https://localhost:8080/",
          "height": 51
        }
      },
      "source": [
        "print(f'training shapes: {X_train.shape}, {y_train.shape}')\n",
        "print(f'testing shapes: {X_test.shape}, {y_test.shape}')"
      ],
      "execution_count": 38,
      "outputs": [
        {
          "output_type": "stream",
          "text": [
            "training shapes: (8000, 10), (8000, 1)\n",
            "testing shapes: (2000, 10), (2000, 1)\n"
          ],
          "name": "stdout"
        }
      ]
    },
    {
      "cell_type": "code",
      "metadata": {
        "id": "rcRSb0MAGYBt"
      },
      "source": [
        ""
      ],
      "execution_count": null,
      "outputs": []
    },
    {
      "cell_type": "markdown",
      "metadata": {
        "id": "9KJLigeaGhFW"
      },
      "source": [
        "Start: NN"
      ]
    },
    {
      "cell_type": "code",
      "metadata": {
        "id": "tHs5TanwGkTM"
      },
      "source": [
        "from keras.models import Sequential\n",
        "from keras.layers import Dense, Dropout"
      ],
      "execution_count": 39,
      "outputs": []
    },
    {
      "cell_type": "code",
      "metadata": {
        "id": "qzE9ns6tGqfN"
      },
      "source": [
        "# Initializing the ANN\n",
        "classifier = Sequential()"
      ],
      "execution_count": 40,
      "outputs": []
    },
    {
      "cell_type": "code",
      "metadata": {
        "id": "dmtdfTYMGvwo"
      },
      "source": [
        "# This adds the input layer (by specifying input dimension) AND the first hidden layer (units)\n",
        "classifier.add(Dense(6, activation = 'relu', input_shape = (X_train.shape[1], )))\n",
        "classifier.add(Dropout(rate=0.1)) "
      ],
      "execution_count": 41,
      "outputs": []
    },
    {
      "cell_type": "code",
      "metadata": {
        "id": "wlvd31jHG954"
      },
      "source": [
        ""
      ],
      "execution_count": null,
      "outputs": []
    },
    {
      "cell_type": "markdown",
      "metadata": {
        "id": "tMkHZ14qHC7d"
      },
      "source": [
        "We are going to add another layer to this model because we want to implement Deep Learning, which is an artificial Neural network with many layers"
      ]
    },
    {
      "cell_type": "code",
      "metadata": {
        "id": "Pj1DIVwXHEmm"
      },
      "source": [
        "# Adding the second hidden layer\n",
        "# Notice that we do not need to specify input dim. \n",
        "classifier.add(Dense(6, activation = 'relu')) \n",
        "classifier.add(Dropout(rate=0.1)) "
      ],
      "execution_count": 43,
      "outputs": []
    },
    {
      "cell_type": "code",
      "metadata": {
        "id": "fOt5n1v0HKD7"
      },
      "source": [
        ""
      ],
      "execution_count": null,
      "outputs": []
    },
    {
      "cell_type": "markdown",
      "metadata": {
        "id": "dolVnMI2HRVp"
      },
      "source": [
        "Adding the output layer\n",
        "The breakdown of the inputs for the output layer is as follows:\n",
        "activiation: sigmoid becasue we are in an output layer. uses the Sigmoid activation function for  ϕ . This is used instead of the ReLu function becasue it generates probabilities for the outcome. We want the probability that each customer leaves the bank."
      ]
    },
    {
      "cell_type": "code",
      "metadata": {
        "id": "Rj5O3WtnHTVE"
      },
      "source": [
        ""
      ],
      "execution_count": null,
      "outputs": []
    },
    {
      "cell_type": "code",
      "metadata": {
        "id": "zc0p9QEwHXoe"
      },
      "source": [
        "# Adding the output layer\n",
        "# Notice that we do not need to specify input dim. \n",
        "# we have an output of 1 node, which is the the desired dimensions of our output (stay with the bank or not)\n",
        "# We use the sigmoid because we want probability outcomes\n",
        "classifier.add(Dense(1, activation = 'sigmoid'))"
      ],
      "execution_count": 45,
      "outputs": []
    },
    {
      "cell_type": "markdown",
      "metadata": {
        "id": "z-pskbDZHel0"
      },
      "source": [
        "If we want more than two categories, then we will need to change\n",
        "1) the units parameter to match the desired category count\n",
        "\n",
        "2) the activation field to softmax. Basically a sigmoid function but applied to a dependent variable that has more than 2 categories."
      ]
    },
    {
      "cell_type": "code",
      "metadata": {
        "id": "U_qY75v5HgPS",
        "outputId": "ca2a3cba-6811-484c-88c8-996eb5ab901a",
        "colab": {
          "base_uri": "https://localhost:8080/",
          "height": 425
        }
      },
      "source": [
        "classifier.summary()"
      ],
      "execution_count": 46,
      "outputs": [
        {
          "output_type": "stream",
          "text": [
            "Model: \"sequential\"\n",
            "_________________________________________________________________\n",
            "Layer (type)                 Output Shape              Param #   \n",
            "=================================================================\n",
            "dense (Dense)                (None, 6)                 66        \n",
            "_________________________________________________________________\n",
            "dropout (Dropout)            (None, 6)                 0         \n",
            "_________________________________________________________________\n",
            "dense_1 (Dense)              (None, 6)                 42        \n",
            "_________________________________________________________________\n",
            "dropout_1 (Dropout)          (None, 6)                 0         \n",
            "_________________________________________________________________\n",
            "dense_2 (Dense)              (None, 6)                 42        \n",
            "_________________________________________________________________\n",
            "dropout_2 (Dropout)          (None, 6)                 0         \n",
            "_________________________________________________________________\n",
            "dense_3 (Dense)              (None, 1)                 7         \n",
            "_________________________________________________________________\n",
            "dense_4 (Dense)              (None, 1)                 2         \n",
            "=================================================================\n",
            "Total params: 159\n",
            "Trainable params: 159\n",
            "Non-trainable params: 0\n",
            "_________________________________________________________________\n"
          ],
          "name": "stdout"
        }
      ]
    },
    {
      "cell_type": "markdown",
      "metadata": {
        "id": "XXMB7ja2Ne9s"
      },
      "source": [
        "Compiling the Neural Network\n",
        "Basically applying Stochastic Gradient descent on the whole Neural Network. We are Tuning the individual weights on each neuron.\n",
        "\n",
        "The breakdown of the inputs for compiling is as follows:\n",
        "optimizer: adam The algorithm we want to use to find the optimal set of weights in the neural networks. Adam is a very efficeint variation of Stochastic Gradient Descent.\n",
        "\n",
        "loss: binary_crossentropy This is the loss function used within adam. This should be the logarthmic loss. If our dependent (output variable) is Binary, it is binary_crossentropy. If Categorical, then it is called categorical_crossentropy\n",
        "\n",
        "metrics: [accuracy] The accuracy metrics which will be evaluated(minimized) by the model. Used as accuracy criteria to imporve model performance."
      ]
    },
    {
      "cell_type": "code",
      "metadata": {
        "id": "nBfA6FQoHslo"
      },
      "source": [
        "classifier.compile(optimizer='adam', loss = 'binary_crossentropy', metrics=['accuracy'])"
      ],
      "execution_count": 48,
      "outputs": []
    },
    {
      "cell_type": "markdown",
      "metadata": {
        "id": "p5Ff835VNqHW"
      },
      "source": [
        "Fitting the Neural Network\n",
        "This is where we will be fitting the NN to our training set.\n",
        "\n",
        "The breakdown of the inputs for compiling is as follows:\n",
        "X_train The independent variable portion of the data which needs to be fitted with the model.\n",
        "\n",
        "Y_train The output portion of the data which the model needs to produce after fitting.\n",
        "\n",
        "batch_size: How often we want to back-propogate the error values so that individual node weights can be adjusted.\n",
        "\n",
        "epochs: The number of times we want to run the entire test data over again to tune the weights. This is like the fuel of the algorithm.\n",
        "\n",
        "validation_split: 0.2 The fraction of data to use for validation data."
      ]
    },
    {
      "cell_type": "code",
      "metadata": {
        "id": "rsrreIx2NsAv",
        "outputId": "271d6295-f24d-4575-e791-c3005bbb645e",
        "colab": {
          "base_uri": "https://localhost:8080/",
          "height": 1000
        }
      },
      "source": [
        "history = classifier.fit(X_train, y_train, batch_size=32, epochs=200, validation_split=0.1, verbose=2)"
      ],
      "execution_count": 49,
      "outputs": [
        {
          "output_type": "stream",
          "text": [
            "Epoch 1/200\n",
            "225/225 - 0s - loss: 0.5349 - accuracy: 0.7961 - val_loss: 0.5114 - val_accuracy: 0.7950\n",
            "Epoch 2/200\n",
            "225/225 - 0s - loss: 0.5044 - accuracy: 0.7961 - val_loss: 0.4991 - val_accuracy: 0.7950\n",
            "Epoch 3/200\n",
            "225/225 - 0s - loss: 0.4944 - accuracy: 0.7961 - val_loss: 0.4878 - val_accuracy: 0.7950\n",
            "Epoch 4/200\n",
            "225/225 - 0s - loss: 0.4833 - accuracy: 0.7961 - val_loss: 0.4764 - val_accuracy: 0.7950\n",
            "Epoch 5/200\n",
            "225/225 - 0s - loss: 0.4738 - accuracy: 0.7961 - val_loss: 0.4655 - val_accuracy: 0.7950\n",
            "Epoch 6/200\n",
            "225/225 - 0s - loss: 0.4629 - accuracy: 0.7961 - val_loss: 0.4567 - val_accuracy: 0.7950\n",
            "Epoch 7/200\n",
            "225/225 - 0s - loss: 0.4583 - accuracy: 0.7961 - val_loss: 0.4509 - val_accuracy: 0.7950\n",
            "Epoch 8/200\n",
            "225/225 - 0s - loss: 0.4554 - accuracy: 0.7961 - val_loss: 0.4483 - val_accuracy: 0.7950\n",
            "Epoch 9/200\n",
            "225/225 - 0s - loss: 0.4532 - accuracy: 0.7961 - val_loss: 0.4472 - val_accuracy: 0.7950\n",
            "Epoch 10/200\n",
            "225/225 - 0s - loss: 0.4480 - accuracy: 0.7961 - val_loss: 0.4454 - val_accuracy: 0.7950\n",
            "Epoch 11/200\n",
            "225/225 - 0s - loss: 0.4458 - accuracy: 0.7961 - val_loss: 0.4423 - val_accuracy: 0.7950\n",
            "Epoch 12/200\n",
            "225/225 - 0s - loss: 0.4467 - accuracy: 0.7961 - val_loss: 0.4405 - val_accuracy: 0.7950\n",
            "Epoch 13/200\n",
            "225/225 - 0s - loss: 0.4449 - accuracy: 0.7961 - val_loss: 0.4377 - val_accuracy: 0.7950\n",
            "Epoch 14/200\n",
            "225/225 - 0s - loss: 0.4448 - accuracy: 0.7961 - val_loss: 0.4347 - val_accuracy: 0.7950\n",
            "Epoch 15/200\n",
            "225/225 - 0s - loss: 0.4431 - accuracy: 0.7961 - val_loss: 0.4333 - val_accuracy: 0.7950\n",
            "Epoch 16/200\n",
            "225/225 - 0s - loss: 0.4417 - accuracy: 0.7961 - val_loss: 0.4309 - val_accuracy: 0.7950\n",
            "Epoch 17/200\n",
            "225/225 - 0s - loss: 0.4385 - accuracy: 0.7961 - val_loss: 0.4296 - val_accuracy: 0.7950\n",
            "Epoch 18/200\n",
            "225/225 - 0s - loss: 0.4365 - accuracy: 0.7961 - val_loss: 0.4277 - val_accuracy: 0.7950\n",
            "Epoch 19/200\n",
            "225/225 - 0s - loss: 0.4381 - accuracy: 0.7961 - val_loss: 0.4255 - val_accuracy: 0.7950\n",
            "Epoch 20/200\n",
            "225/225 - 0s - loss: 0.4380 - accuracy: 0.7961 - val_loss: 0.4251 - val_accuracy: 0.7950\n",
            "Epoch 21/200\n",
            "225/225 - 0s - loss: 0.4360 - accuracy: 0.7961 - val_loss: 0.4230 - val_accuracy: 0.7950\n",
            "Epoch 22/200\n",
            "225/225 - 0s - loss: 0.4356 - accuracy: 0.7961 - val_loss: 0.4220 - val_accuracy: 0.7950\n",
            "Epoch 23/200\n",
            "225/225 - 0s - loss: 0.4343 - accuracy: 0.7961 - val_loss: 0.4213 - val_accuracy: 0.7950\n",
            "Epoch 24/200\n",
            "225/225 - 0s - loss: 0.4316 - accuracy: 0.7961 - val_loss: 0.4202 - val_accuracy: 0.7950\n",
            "Epoch 25/200\n",
            "225/225 - 0s - loss: 0.4333 - accuracy: 0.7961 - val_loss: 0.4200 - val_accuracy: 0.7950\n",
            "Epoch 26/200\n",
            "225/225 - 0s - loss: 0.4323 - accuracy: 0.7961 - val_loss: 0.4173 - val_accuracy: 0.7950\n",
            "Epoch 27/200\n",
            "225/225 - 0s - loss: 0.4306 - accuracy: 0.7961 - val_loss: 0.4175 - val_accuracy: 0.7950\n",
            "Epoch 28/200\n",
            "225/225 - 0s - loss: 0.4313 - accuracy: 0.7961 - val_loss: 0.4157 - val_accuracy: 0.7950\n",
            "Epoch 29/200\n",
            "225/225 - 0s - loss: 0.4294 - accuracy: 0.7961 - val_loss: 0.4150 - val_accuracy: 0.7950\n",
            "Epoch 30/200\n",
            "225/225 - 0s - loss: 0.4301 - accuracy: 0.7961 - val_loss: 0.4141 - val_accuracy: 0.7950\n",
            "Epoch 31/200\n",
            "225/225 - 0s - loss: 0.4292 - accuracy: 0.7961 - val_loss: 0.4139 - val_accuracy: 0.7950\n",
            "Epoch 32/200\n",
            "225/225 - 0s - loss: 0.4286 - accuracy: 0.7961 - val_loss: 0.4126 - val_accuracy: 0.7950\n",
            "Epoch 33/200\n",
            "225/225 - 0s - loss: 0.4272 - accuracy: 0.8007 - val_loss: 0.4100 - val_accuracy: 0.8037\n",
            "Epoch 34/200\n",
            "225/225 - 0s - loss: 0.4273 - accuracy: 0.8086 - val_loss: 0.4093 - val_accuracy: 0.8087\n",
            "Epoch 35/200\n",
            "225/225 - 0s - loss: 0.4280 - accuracy: 0.8103 - val_loss: 0.4093 - val_accuracy: 0.8188\n",
            "Epoch 36/200\n",
            "225/225 - 0s - loss: 0.4293 - accuracy: 0.8056 - val_loss: 0.4081 - val_accuracy: 0.8213\n",
            "Epoch 37/200\n",
            "225/225 - 0s - loss: 0.4255 - accuracy: 0.8112 - val_loss: 0.4079 - val_accuracy: 0.8263\n",
            "Epoch 38/200\n",
            "225/225 - 0s - loss: 0.4271 - accuracy: 0.8074 - val_loss: 0.4064 - val_accuracy: 0.8263\n",
            "Epoch 39/200\n",
            "225/225 - 0s - loss: 0.4245 - accuracy: 0.8119 - val_loss: 0.4057 - val_accuracy: 0.8313\n",
            "Epoch 40/200\n",
            "225/225 - 0s - loss: 0.4265 - accuracy: 0.8082 - val_loss: 0.4055 - val_accuracy: 0.8250\n",
            "Epoch 41/200\n",
            "225/225 - 0s - loss: 0.4267 - accuracy: 0.8075 - val_loss: 0.4039 - val_accuracy: 0.8300\n",
            "Epoch 42/200\n",
            "225/225 - 0s - loss: 0.4258 - accuracy: 0.8085 - val_loss: 0.4031 - val_accuracy: 0.8325\n",
            "Epoch 43/200\n",
            "225/225 - 0s - loss: 0.4227 - accuracy: 0.8119 - val_loss: 0.4029 - val_accuracy: 0.8338\n",
            "Epoch 44/200\n",
            "225/225 - 0s - loss: 0.4256 - accuracy: 0.8082 - val_loss: 0.4022 - val_accuracy: 0.8338\n",
            "Epoch 45/200\n",
            "225/225 - 0s - loss: 0.4209 - accuracy: 0.8154 - val_loss: 0.4010 - val_accuracy: 0.8363\n",
            "Epoch 46/200\n",
            "225/225 - 0s - loss: 0.4234 - accuracy: 0.8136 - val_loss: 0.4007 - val_accuracy: 0.8350\n",
            "Epoch 47/200\n",
            "225/225 - 0s - loss: 0.4234 - accuracy: 0.8114 - val_loss: 0.4009 - val_accuracy: 0.8350\n",
            "Epoch 48/200\n",
            "225/225 - 0s - loss: 0.4237 - accuracy: 0.8104 - val_loss: 0.4005 - val_accuracy: 0.8388\n",
            "Epoch 49/200\n",
            "225/225 - 0s - loss: 0.4222 - accuracy: 0.8103 - val_loss: 0.3996 - val_accuracy: 0.8363\n",
            "Epoch 50/200\n",
            "225/225 - 0s - loss: 0.4228 - accuracy: 0.8142 - val_loss: 0.3981 - val_accuracy: 0.8388\n",
            "Epoch 51/200\n",
            "225/225 - 0s - loss: 0.4236 - accuracy: 0.8092 - val_loss: 0.3993 - val_accuracy: 0.8375\n",
            "Epoch 52/200\n",
            "225/225 - 0s - loss: 0.4238 - accuracy: 0.8138 - val_loss: 0.3990 - val_accuracy: 0.8388\n",
            "Epoch 53/200\n",
            "225/225 - 0s - loss: 0.4210 - accuracy: 0.8132 - val_loss: 0.3981 - val_accuracy: 0.8400\n",
            "Epoch 54/200\n",
            "225/225 - 0s - loss: 0.4200 - accuracy: 0.8163 - val_loss: 0.3966 - val_accuracy: 0.8413\n",
            "Epoch 55/200\n",
            "225/225 - 0s - loss: 0.4235 - accuracy: 0.8147 - val_loss: 0.3969 - val_accuracy: 0.8438\n",
            "Epoch 56/200\n",
            "225/225 - 0s - loss: 0.4203 - accuracy: 0.8139 - val_loss: 0.3970 - val_accuracy: 0.8450\n",
            "Epoch 57/200\n",
            "225/225 - 0s - loss: 0.4200 - accuracy: 0.8157 - val_loss: 0.3960 - val_accuracy: 0.8475\n",
            "Epoch 58/200\n",
            "225/225 - 0s - loss: 0.4164 - accuracy: 0.8160 - val_loss: 0.3956 - val_accuracy: 0.8475\n",
            "Epoch 59/200\n",
            "225/225 - 0s - loss: 0.4186 - accuracy: 0.8146 - val_loss: 0.3959 - val_accuracy: 0.8475\n",
            "Epoch 60/200\n",
            "225/225 - 0s - loss: 0.4169 - accuracy: 0.8150 - val_loss: 0.3949 - val_accuracy: 0.8450\n",
            "Epoch 61/200\n",
            "225/225 - 0s - loss: 0.4197 - accuracy: 0.8188 - val_loss: 0.3946 - val_accuracy: 0.8475\n",
            "Epoch 62/200\n",
            "225/225 - 0s - loss: 0.4180 - accuracy: 0.8190 - val_loss: 0.3949 - val_accuracy: 0.8462\n",
            "Epoch 63/200\n",
            "225/225 - 0s - loss: 0.4149 - accuracy: 0.8214 - val_loss: 0.3952 - val_accuracy: 0.8500\n",
            "Epoch 64/200\n",
            "225/225 - 0s - loss: 0.4162 - accuracy: 0.8203 - val_loss: 0.3935 - val_accuracy: 0.8475\n",
            "Epoch 65/200\n",
            "225/225 - 0s - loss: 0.4164 - accuracy: 0.8197 - val_loss: 0.3933 - val_accuracy: 0.8462\n",
            "Epoch 66/200\n",
            "225/225 - 0s - loss: 0.4187 - accuracy: 0.8199 - val_loss: 0.3919 - val_accuracy: 0.8500\n",
            "Epoch 67/200\n",
            "225/225 - 0s - loss: 0.4180 - accuracy: 0.8165 - val_loss: 0.3927 - val_accuracy: 0.8525\n",
            "Epoch 68/200\n",
            "225/225 - 0s - loss: 0.4176 - accuracy: 0.8196 - val_loss: 0.3923 - val_accuracy: 0.8562\n",
            "Epoch 69/200\n",
            "225/225 - 0s - loss: 0.4169 - accuracy: 0.8218 - val_loss: 0.3928 - val_accuracy: 0.8487\n",
            "Epoch 70/200\n",
            "225/225 - 0s - loss: 0.4159 - accuracy: 0.8217 - val_loss: 0.3920 - val_accuracy: 0.8487\n",
            "Epoch 71/200\n",
            "225/225 - 0s - loss: 0.4166 - accuracy: 0.8201 - val_loss: 0.3919 - val_accuracy: 0.8575\n",
            "Epoch 72/200\n",
            "225/225 - 0s - loss: 0.4166 - accuracy: 0.8218 - val_loss: 0.3921 - val_accuracy: 0.8550\n",
            "Epoch 73/200\n",
            "225/225 - 0s - loss: 0.4168 - accuracy: 0.8192 - val_loss: 0.3920 - val_accuracy: 0.8487\n",
            "Epoch 74/200\n",
            "225/225 - 0s - loss: 0.4172 - accuracy: 0.8224 - val_loss: 0.3924 - val_accuracy: 0.8550\n",
            "Epoch 75/200\n",
            "225/225 - 0s - loss: 0.4151 - accuracy: 0.8224 - val_loss: 0.3916 - val_accuracy: 0.8537\n",
            "Epoch 76/200\n",
            "225/225 - 0s - loss: 0.4139 - accuracy: 0.8240 - val_loss: 0.3908 - val_accuracy: 0.8562\n",
            "Epoch 77/200\n",
            "225/225 - 0s - loss: 0.4150 - accuracy: 0.8218 - val_loss: 0.3902 - val_accuracy: 0.8575\n",
            "Epoch 78/200\n",
            "225/225 - 0s - loss: 0.4128 - accuracy: 0.8240 - val_loss: 0.3892 - val_accuracy: 0.8575\n",
            "Epoch 79/200\n",
            "225/225 - 0s - loss: 0.4153 - accuracy: 0.8224 - val_loss: 0.3911 - val_accuracy: 0.8550\n",
            "Epoch 80/200\n",
            "225/225 - 0s - loss: 0.4106 - accuracy: 0.8300 - val_loss: 0.3881 - val_accuracy: 0.8562\n",
            "Epoch 81/200\n",
            "225/225 - 0s - loss: 0.4130 - accuracy: 0.8253 - val_loss: 0.3892 - val_accuracy: 0.8550\n",
            "Epoch 82/200\n",
            "225/225 - 0s - loss: 0.4124 - accuracy: 0.8250 - val_loss: 0.3869 - val_accuracy: 0.8550\n",
            "Epoch 83/200\n",
            "225/225 - 0s - loss: 0.4110 - accuracy: 0.8276 - val_loss: 0.3860 - val_accuracy: 0.8562\n",
            "Epoch 84/200\n",
            "225/225 - 0s - loss: 0.4110 - accuracy: 0.8265 - val_loss: 0.3868 - val_accuracy: 0.8550\n",
            "Epoch 85/200\n",
            "225/225 - 0s - loss: 0.4118 - accuracy: 0.8282 - val_loss: 0.3876 - val_accuracy: 0.8575\n",
            "Epoch 86/200\n",
            "225/225 - 0s - loss: 0.4142 - accuracy: 0.8233 - val_loss: 0.3877 - val_accuracy: 0.8562\n",
            "Epoch 87/200\n",
            "225/225 - 0s - loss: 0.4112 - accuracy: 0.8257 - val_loss: 0.3866 - val_accuracy: 0.8575\n",
            "Epoch 88/200\n",
            "225/225 - 0s - loss: 0.4094 - accuracy: 0.8275 - val_loss: 0.3868 - val_accuracy: 0.8600\n",
            "Epoch 89/200\n",
            "225/225 - 0s - loss: 0.4118 - accuracy: 0.8263 - val_loss: 0.3887 - val_accuracy: 0.8537\n",
            "Epoch 90/200\n",
            "225/225 - 0s - loss: 0.4115 - accuracy: 0.8268 - val_loss: 0.3873 - val_accuracy: 0.8562\n",
            "Epoch 91/200\n",
            "225/225 - 0s - loss: 0.4121 - accuracy: 0.8239 - val_loss: 0.3878 - val_accuracy: 0.8550\n",
            "Epoch 92/200\n",
            "225/225 - 0s - loss: 0.4128 - accuracy: 0.8249 - val_loss: 0.3874 - val_accuracy: 0.8575\n",
            "Epoch 93/200\n",
            "225/225 - 0s - loss: 0.4079 - accuracy: 0.8279 - val_loss: 0.3869 - val_accuracy: 0.8562\n",
            "Epoch 94/200\n",
            "225/225 - 0s - loss: 0.4093 - accuracy: 0.8279 - val_loss: 0.3866 - val_accuracy: 0.8550\n",
            "Epoch 95/200\n",
            "225/225 - 0s - loss: 0.4088 - accuracy: 0.8265 - val_loss: 0.3859 - val_accuracy: 0.8562\n",
            "Epoch 96/200\n",
            "225/225 - 0s - loss: 0.4137 - accuracy: 0.8251 - val_loss: 0.3862 - val_accuracy: 0.8575\n",
            "Epoch 97/200\n",
            "225/225 - 0s - loss: 0.4103 - accuracy: 0.8281 - val_loss: 0.3863 - val_accuracy: 0.8612\n",
            "Epoch 98/200\n",
            "225/225 - 0s - loss: 0.4093 - accuracy: 0.8268 - val_loss: 0.3861 - val_accuracy: 0.8550\n",
            "Epoch 99/200\n",
            "225/225 - 0s - loss: 0.4103 - accuracy: 0.8269 - val_loss: 0.3850 - val_accuracy: 0.8550\n",
            "Epoch 100/200\n",
            "225/225 - 0s - loss: 0.4108 - accuracy: 0.8257 - val_loss: 0.3851 - val_accuracy: 0.8550\n",
            "Epoch 101/200\n",
            "225/225 - 0s - loss: 0.4092 - accuracy: 0.8263 - val_loss: 0.3842 - val_accuracy: 0.8587\n",
            "Epoch 102/200\n",
            "225/225 - 0s - loss: 0.4092 - accuracy: 0.8289 - val_loss: 0.3843 - val_accuracy: 0.8575\n",
            "Epoch 103/200\n",
            "225/225 - 0s - loss: 0.4083 - accuracy: 0.8257 - val_loss: 0.3837 - val_accuracy: 0.8600\n",
            "Epoch 104/200\n",
            "225/225 - 0s - loss: 0.4085 - accuracy: 0.8283 - val_loss: 0.3813 - val_accuracy: 0.8575\n",
            "Epoch 105/200\n",
            "225/225 - 0s - loss: 0.4087 - accuracy: 0.8267 - val_loss: 0.3816 - val_accuracy: 0.8600\n",
            "Epoch 106/200\n",
            "225/225 - 0s - loss: 0.4058 - accuracy: 0.8281 - val_loss: 0.3806 - val_accuracy: 0.8575\n",
            "Epoch 107/200\n",
            "225/225 - 0s - loss: 0.4066 - accuracy: 0.8281 - val_loss: 0.3807 - val_accuracy: 0.8575\n",
            "Epoch 108/200\n",
            "225/225 - 0s - loss: 0.4076 - accuracy: 0.8256 - val_loss: 0.3796 - val_accuracy: 0.8562\n",
            "Epoch 109/200\n",
            "225/225 - 0s - loss: 0.4049 - accuracy: 0.8286 - val_loss: 0.3782 - val_accuracy: 0.8562\n",
            "Epoch 110/200\n",
            "225/225 - 0s - loss: 0.4057 - accuracy: 0.8261 - val_loss: 0.3777 - val_accuracy: 0.8587\n",
            "Epoch 111/200\n",
            "225/225 - 0s - loss: 0.4069 - accuracy: 0.8260 - val_loss: 0.3763 - val_accuracy: 0.8625\n",
            "Epoch 112/200\n",
            "225/225 - 0s - loss: 0.4019 - accuracy: 0.8313 - val_loss: 0.3742 - val_accuracy: 0.8612\n",
            "Epoch 113/200\n",
            "225/225 - 0s - loss: 0.4073 - accuracy: 0.8247 - val_loss: 0.3740 - val_accuracy: 0.8587\n",
            "Epoch 114/200\n",
            "225/225 - 0s - loss: 0.4050 - accuracy: 0.8272 - val_loss: 0.3738 - val_accuracy: 0.8600\n",
            "Epoch 115/200\n",
            "225/225 - 0s - loss: 0.4025 - accuracy: 0.8290 - val_loss: 0.3730 - val_accuracy: 0.8637\n",
            "Epoch 116/200\n",
            "225/225 - 0s - loss: 0.4042 - accuracy: 0.8278 - val_loss: 0.3734 - val_accuracy: 0.8587\n",
            "Epoch 117/200\n",
            "225/225 - 0s - loss: 0.4014 - accuracy: 0.8299 - val_loss: 0.3728 - val_accuracy: 0.8600\n",
            "Epoch 118/200\n",
            "225/225 - 0s - loss: 0.4045 - accuracy: 0.8297 - val_loss: 0.3724 - val_accuracy: 0.8612\n",
            "Epoch 119/200\n",
            "225/225 - 0s - loss: 0.4020 - accuracy: 0.8289 - val_loss: 0.3717 - val_accuracy: 0.8612\n",
            "Epoch 120/200\n",
            "225/225 - 0s - loss: 0.3983 - accuracy: 0.8322 - val_loss: 0.3706 - val_accuracy: 0.8600\n",
            "Epoch 121/200\n",
            "225/225 - 0s - loss: 0.4016 - accuracy: 0.8282 - val_loss: 0.3706 - val_accuracy: 0.8587\n",
            "Epoch 122/200\n",
            "225/225 - 0s - loss: 0.4022 - accuracy: 0.8322 - val_loss: 0.3698 - val_accuracy: 0.8600\n",
            "Epoch 123/200\n",
            "225/225 - 0s - loss: 0.4014 - accuracy: 0.8268 - val_loss: 0.3705 - val_accuracy: 0.8562\n",
            "Epoch 124/200\n",
            "225/225 - 0s - loss: 0.4004 - accuracy: 0.8265 - val_loss: 0.3706 - val_accuracy: 0.8612\n",
            "Epoch 125/200\n",
            "225/225 - 0s - loss: 0.3996 - accuracy: 0.8319 - val_loss: 0.3703 - val_accuracy: 0.8600\n",
            "Epoch 126/200\n",
            "225/225 - 0s - loss: 0.3988 - accuracy: 0.8286 - val_loss: 0.3684 - val_accuracy: 0.8612\n",
            "Epoch 127/200\n",
            "225/225 - 0s - loss: 0.4017 - accuracy: 0.8303 - val_loss: 0.3691 - val_accuracy: 0.8587\n",
            "Epoch 128/200\n",
            "225/225 - 0s - loss: 0.3994 - accuracy: 0.8321 - val_loss: 0.3697 - val_accuracy: 0.8562\n",
            "Epoch 129/200\n",
            "225/225 - 0s - loss: 0.4044 - accuracy: 0.8268 - val_loss: 0.3681 - val_accuracy: 0.8587\n",
            "Epoch 130/200\n",
            "225/225 - 0s - loss: 0.3994 - accuracy: 0.8326 - val_loss: 0.3669 - val_accuracy: 0.8575\n",
            "Epoch 131/200\n",
            "225/225 - 0s - loss: 0.3970 - accuracy: 0.8301 - val_loss: 0.3664 - val_accuracy: 0.8600\n",
            "Epoch 132/200\n",
            "225/225 - 0s - loss: 0.3962 - accuracy: 0.8356 - val_loss: 0.3643 - val_accuracy: 0.8600\n",
            "Epoch 133/200\n",
            "225/225 - 0s - loss: 0.3993 - accuracy: 0.8269 - val_loss: 0.3641 - val_accuracy: 0.8587\n",
            "Epoch 134/200\n",
            "225/225 - 0s - loss: 0.3958 - accuracy: 0.8304 - val_loss: 0.3647 - val_accuracy: 0.8550\n",
            "Epoch 135/200\n",
            "225/225 - 0s - loss: 0.4006 - accuracy: 0.8301 - val_loss: 0.3643 - val_accuracy: 0.8612\n",
            "Epoch 136/200\n",
            "225/225 - 0s - loss: 0.4011 - accuracy: 0.8317 - val_loss: 0.3644 - val_accuracy: 0.8587\n",
            "Epoch 137/200\n",
            "225/225 - 0s - loss: 0.3976 - accuracy: 0.8314 - val_loss: 0.3645 - val_accuracy: 0.8637\n",
            "Epoch 138/200\n",
            "225/225 - 0s - loss: 0.3976 - accuracy: 0.8315 - val_loss: 0.3631 - val_accuracy: 0.8625\n",
            "Epoch 139/200\n",
            "225/225 - 0s - loss: 0.3956 - accuracy: 0.8346 - val_loss: 0.3640 - val_accuracy: 0.8562\n",
            "Epoch 140/200\n",
            "225/225 - 0s - loss: 0.3960 - accuracy: 0.8308 - val_loss: 0.3624 - val_accuracy: 0.8612\n",
            "Epoch 141/200\n",
            "225/225 - 0s - loss: 0.3987 - accuracy: 0.8315 - val_loss: 0.3631 - val_accuracy: 0.8612\n",
            "Epoch 142/200\n",
            "225/225 - 0s - loss: 0.3970 - accuracy: 0.8314 - val_loss: 0.3625 - val_accuracy: 0.8662\n",
            "Epoch 143/200\n",
            "225/225 - 0s - loss: 0.3978 - accuracy: 0.8333 - val_loss: 0.3621 - val_accuracy: 0.8625\n",
            "Epoch 144/200\n",
            "225/225 - 0s - loss: 0.3962 - accuracy: 0.8339 - val_loss: 0.3609 - val_accuracy: 0.8625\n",
            "Epoch 145/200\n",
            "225/225 - 0s - loss: 0.3967 - accuracy: 0.8324 - val_loss: 0.3590 - val_accuracy: 0.8637\n",
            "Epoch 146/200\n",
            "225/225 - 0s - loss: 0.3951 - accuracy: 0.8342 - val_loss: 0.3588 - val_accuracy: 0.8637\n",
            "Epoch 147/200\n",
            "225/225 - 0s - loss: 0.3965 - accuracy: 0.8342 - val_loss: 0.3586 - val_accuracy: 0.8662\n",
            "Epoch 148/200\n",
            "225/225 - 0s - loss: 0.3921 - accuracy: 0.8392 - val_loss: 0.3566 - val_accuracy: 0.8650\n",
            "Epoch 149/200\n",
            "225/225 - 0s - loss: 0.3931 - accuracy: 0.8324 - val_loss: 0.3560 - val_accuracy: 0.8637\n",
            "Epoch 150/200\n",
            "225/225 - 0s - loss: 0.3979 - accuracy: 0.8308 - val_loss: 0.3566 - val_accuracy: 0.8650\n",
            "Epoch 151/200\n",
            "225/225 - 0s - loss: 0.3946 - accuracy: 0.8314 - val_loss: 0.3567 - val_accuracy: 0.8625\n",
            "Epoch 152/200\n",
            "225/225 - 0s - loss: 0.3957 - accuracy: 0.8300 - val_loss: 0.3560 - val_accuracy: 0.8612\n",
            "Epoch 153/200\n",
            "225/225 - 0s - loss: 0.3994 - accuracy: 0.8289 - val_loss: 0.3559 - val_accuracy: 0.8662\n",
            "Epoch 154/200\n",
            "225/225 - 0s - loss: 0.3919 - accuracy: 0.8353 - val_loss: 0.3544 - val_accuracy: 0.8625\n",
            "Epoch 155/200\n",
            "225/225 - 0s - loss: 0.3965 - accuracy: 0.8281 - val_loss: 0.3550 - val_accuracy: 0.8625\n",
            "Epoch 156/200\n",
            "225/225 - 0s - loss: 0.3921 - accuracy: 0.8343 - val_loss: 0.3539 - val_accuracy: 0.8675\n",
            "Epoch 157/200\n",
            "225/225 - 0s - loss: 0.3915 - accuracy: 0.8364 - val_loss: 0.3532 - val_accuracy: 0.8650\n",
            "Epoch 158/200\n",
            "225/225 - 0s - loss: 0.3919 - accuracy: 0.8342 - val_loss: 0.3515 - val_accuracy: 0.8687\n",
            "Epoch 159/200\n",
            "225/225 - 0s - loss: 0.3914 - accuracy: 0.8351 - val_loss: 0.3511 - val_accuracy: 0.8687\n",
            "Epoch 160/200\n",
            "225/225 - 0s - loss: 0.3936 - accuracy: 0.8324 - val_loss: 0.3522 - val_accuracy: 0.8637\n",
            "Epoch 161/200\n",
            "225/225 - 0s - loss: 0.3889 - accuracy: 0.8342 - val_loss: 0.3494 - val_accuracy: 0.8662\n",
            "Epoch 162/200\n",
            "225/225 - 0s - loss: 0.3896 - accuracy: 0.8360 - val_loss: 0.3501 - val_accuracy: 0.8675\n",
            "Epoch 163/200\n",
            "225/225 - 0s - loss: 0.3885 - accuracy: 0.8354 - val_loss: 0.3485 - val_accuracy: 0.8675\n",
            "Epoch 164/200\n",
            "225/225 - 0s - loss: 0.3908 - accuracy: 0.8349 - val_loss: 0.3493 - val_accuracy: 0.8650\n",
            "Epoch 165/200\n",
            "225/225 - 0s - loss: 0.3894 - accuracy: 0.8356 - val_loss: 0.3480 - val_accuracy: 0.8675\n",
            "Epoch 166/200\n",
            "225/225 - 0s - loss: 0.3931 - accuracy: 0.8318 - val_loss: 0.3479 - val_accuracy: 0.8675\n",
            "Epoch 167/200\n",
            "225/225 - 0s - loss: 0.3928 - accuracy: 0.8335 - val_loss: 0.3499 - val_accuracy: 0.8675\n",
            "Epoch 168/200\n",
            "225/225 - 0s - loss: 0.3880 - accuracy: 0.8376 - val_loss: 0.3475 - val_accuracy: 0.8675\n",
            "Epoch 169/200\n",
            "225/225 - 0s - loss: 0.3922 - accuracy: 0.8311 - val_loss: 0.3463 - val_accuracy: 0.8675\n",
            "Epoch 170/200\n",
            "225/225 - 0s - loss: 0.3909 - accuracy: 0.8364 - val_loss: 0.3472 - val_accuracy: 0.8675\n",
            "Epoch 171/200\n",
            "225/225 - 0s - loss: 0.3924 - accuracy: 0.8360 - val_loss: 0.3455 - val_accuracy: 0.8662\n",
            "Epoch 172/200\n",
            "225/225 - 0s - loss: 0.3936 - accuracy: 0.8371 - val_loss: 0.3458 - val_accuracy: 0.8637\n",
            "Epoch 173/200\n",
            "225/225 - 0s - loss: 0.3878 - accuracy: 0.8406 - val_loss: 0.3452 - val_accuracy: 0.8687\n",
            "Epoch 174/200\n",
            "225/225 - 0s - loss: 0.3877 - accuracy: 0.8386 - val_loss: 0.3436 - val_accuracy: 0.8687\n",
            "Epoch 175/200\n",
            "225/225 - 0s - loss: 0.3910 - accuracy: 0.8340 - val_loss: 0.3441 - val_accuracy: 0.8675\n",
            "Epoch 176/200\n",
            "225/225 - 0s - loss: 0.3907 - accuracy: 0.8340 - val_loss: 0.3435 - val_accuracy: 0.8675\n",
            "Epoch 177/200\n",
            "225/225 - 0s - loss: 0.3899 - accuracy: 0.8339 - val_loss: 0.3442 - val_accuracy: 0.8637\n",
            "Epoch 178/200\n",
            "225/225 - 0s - loss: 0.3910 - accuracy: 0.8343 - val_loss: 0.3431 - val_accuracy: 0.8662\n",
            "Epoch 179/200\n",
            "225/225 - 0s - loss: 0.3890 - accuracy: 0.8383 - val_loss: 0.3427 - val_accuracy: 0.8662\n",
            "Epoch 180/200\n",
            "225/225 - 0s - loss: 0.3898 - accuracy: 0.8363 - val_loss: 0.3444 - val_accuracy: 0.8625\n",
            "Epoch 181/200\n",
            "225/225 - 0s - loss: 0.3867 - accuracy: 0.8399 - val_loss: 0.3445 - val_accuracy: 0.8662\n",
            "Epoch 182/200\n",
            "225/225 - 0s - loss: 0.3909 - accuracy: 0.8375 - val_loss: 0.3434 - val_accuracy: 0.8675\n",
            "Epoch 183/200\n",
            "225/225 - 0s - loss: 0.3891 - accuracy: 0.8368 - val_loss: 0.3443 - val_accuracy: 0.8662\n",
            "Epoch 184/200\n",
            "225/225 - 0s - loss: 0.3930 - accuracy: 0.8353 - val_loss: 0.3464 - val_accuracy: 0.8637\n",
            "Epoch 185/200\n",
            "225/225 - 0s - loss: 0.3904 - accuracy: 0.8350 - val_loss: 0.3451 - val_accuracy: 0.8637\n",
            "Epoch 186/200\n",
            "225/225 - 0s - loss: 0.3890 - accuracy: 0.8368 - val_loss: 0.3441 - val_accuracy: 0.8675\n",
            "Epoch 187/200\n",
            "225/225 - 0s - loss: 0.3875 - accuracy: 0.8401 - val_loss: 0.3437 - val_accuracy: 0.8675\n",
            "Epoch 188/200\n",
            "225/225 - 0s - loss: 0.3888 - accuracy: 0.8361 - val_loss: 0.3423 - val_accuracy: 0.8662\n",
            "Epoch 189/200\n",
            "225/225 - 0s - loss: 0.3905 - accuracy: 0.8368 - val_loss: 0.3421 - val_accuracy: 0.8687\n",
            "Epoch 190/200\n",
            "225/225 - 0s - loss: 0.3865 - accuracy: 0.8378 - val_loss: 0.3420 - val_accuracy: 0.8700\n",
            "Epoch 191/200\n",
            "225/225 - 0s - loss: 0.3887 - accuracy: 0.8364 - val_loss: 0.3420 - val_accuracy: 0.8675\n",
            "Epoch 192/200\n",
            "225/225 - 0s - loss: 0.3896 - accuracy: 0.8397 - val_loss: 0.3416 - val_accuracy: 0.8675\n",
            "Epoch 193/200\n",
            "225/225 - 0s - loss: 0.3861 - accuracy: 0.8369 - val_loss: 0.3418 - val_accuracy: 0.8675\n",
            "Epoch 194/200\n",
            "225/225 - 0s - loss: 0.3873 - accuracy: 0.8379 - val_loss: 0.3429 - val_accuracy: 0.8675\n",
            "Epoch 195/200\n",
            "225/225 - 0s - loss: 0.3866 - accuracy: 0.8381 - val_loss: 0.3413 - val_accuracy: 0.8687\n",
            "Epoch 196/200\n",
            "225/225 - 0s - loss: 0.3864 - accuracy: 0.8381 - val_loss: 0.3418 - val_accuracy: 0.8637\n",
            "Epoch 197/200\n",
            "225/225 - 0s - loss: 0.3885 - accuracy: 0.8383 - val_loss: 0.3445 - val_accuracy: 0.8650\n",
            "Epoch 198/200\n",
            "225/225 - 0s - loss: 0.3903 - accuracy: 0.8360 - val_loss: 0.3432 - val_accuracy: 0.8650\n",
            "Epoch 199/200\n",
            "225/225 - 0s - loss: 0.3902 - accuracy: 0.8376 - val_loss: 0.3440 - val_accuracy: 0.8625\n",
            "Epoch 200/200\n",
            "225/225 - 0s - loss: 0.3851 - accuracy: 0.8403 - val_loss: 0.3434 - val_accuracy: 0.8687\n"
          ],
          "name": "stdout"
        }
      ]
    },
    {
      "cell_type": "markdown",
      "metadata": {
        "id": "5vuOEvotQ9l2"
      },
      "source": [
        "The output network should converge to an accuracy of around 85%"
      ]
    },
    {
      "cell_type": "code",
      "metadata": {
        "id": "FYB6wtKBQ_Cq"
      },
      "source": [
        ""
      ],
      "execution_count": null,
      "outputs": []
    },
    {
      "cell_type": "markdown",
      "metadata": {
        "id": "aexhKoovRDVC"
      },
      "source": [
        "Testing the NN\n",
        "Predicting the Test set results\n",
        "This shows the probability of a customer leaving given the testing data. Each row in X_test corresponds to a row in Y_test"
      ]
    },
    {
      "cell_type": "code",
      "metadata": {
        "id": "l03Ef4UnRFHq",
        "outputId": "0e1e1cd2-842e-4d98-afcf-e9e37ec4d457",
        "colab": {
          "base_uri": "https://localhost:8080/",
          "height": 295
        }
      },
      "source": [
        "plt.plot(np.array(history.history['accuracy']) * 100)\n",
        "plt.plot(np.array(history.history['val_accuracy']) * 100)\n",
        "plt.ylabel('accuracy')\n",
        "plt.xlabel('epochs')\n",
        "plt.legend(['train', 'validation'])\n",
        "plt.title('Accuracy over epochs')\n",
        "plt.show()"
      ],
      "execution_count": 56,
      "outputs": [
        {
          "output_type": "display_data",
          "data": {
            "image/png": "[encoded data removed]",
            "text/plain": [
              "<Figure size 432x288 with 1 Axes>"
            ]
          },
          "metadata": {
            "tags": [],
            "needs_background": "light"
          }
        }
      ]
    },
    {
      "cell_type": "code",
      "metadata": {
        "id": "tqeXbnmCRYuj",
        "outputId": "aa48ba03-2f07-48e1-c4ae-b85167b4a3a1",
        "colab": {
          "base_uri": "https://localhost:8080/",
          "height": 102
        }
      },
      "source": [
        "y_pred = classifier.predict(X_test)\n",
        "print(y_pred[:5])"
      ],
      "execution_count": 51,
      "outputs": [
        {
          "output_type": "stream",
          "text": [
            "[[0.26552695]\n",
            " [0.3239069 ]\n",
            " [0.11901692]\n",
            " [0.0535298 ]\n",
            " [0.10854188]]\n"
          ],
          "name": "stdout"
        }
      ]
    },
    {
      "cell_type": "markdown",
      "metadata": {
        "id": "NhHwT7ILRmRv"
      },
      "source": [
        "To use the confusion Matrix, we need to convert the probabilities that a customer will leave the bank into the form true or false. So we will use the cutoff value 0.5 to indicate whether they are likely to exit or not."
      ]
    },
    {
      "cell_type": "code",
      "metadata": {
        "id": "9OijfRWzRnvz",
        "outputId": "7cd2dad6-0050-407e-9b27-3e114609f4ca",
        "colab": {
          "base_uri": "https://localhost:8080/",
          "height": 102
        }
      },
      "source": [
        "y_pred = (y_pred > 0.5).astype(int)\n",
        "print(y_pred[:5])"
      ],
      "execution_count": 52,
      "outputs": [
        {
          "output_type": "stream",
          "text": [
            "[[0]\n",
            " [0]\n",
            " [0]\n",
            " [0]\n",
            " [0]]\n"
          ],
          "name": "stdout"
        }
      ]
    },
    {
      "cell_type": "code",
      "metadata": {
        "id": "sbkNyEu3RwYz"
      },
      "source": [
        "Making the Confusion Matrix"
      ],
      "execution_count": null,
      "outputs": []
    },
    {
      "cell_type": "code",
      "metadata": {
        "id": "di-z29SERx-u",
        "outputId": "d5f1da27-f457-4e2a-9723-27176bd938c9",
        "colab": {
          "base_uri": "https://localhost:8080/",
          "height": 51
        }
      },
      "source": [
        "from sklearn.metrics import confusion_matrix\n",
        "cm = confusion_matrix(y_test, y_pred)\n",
        "print(cm)"
      ],
      "execution_count": 53,
      "outputs": [
        {
          "output_type": "stream",
          "text": [
            "[[1515   80]\n",
            " [ 208  197]]\n"
          ],
          "name": "stdout"
        }
      ]
    },
    {
      "cell_type": "markdown",
      "metadata": {
        "id": "VzaLLspCSJuA"
      },
      "source": [
        "Percentage of Test data Classified"
      ]
    },
    {
      "cell_type": "code",
      "metadata": {
        "id": "e8zKVO0ZR_qH",
        "outputId": "017a3bc4-c53e-4fb1-8ef0-623e2157fde9",
        "colab": {
          "base_uri": "https://localhost:8080/",
          "height": 34
        }
      },
      "source": [
        "print (((cm[0][0]+cm[1][1])*100)/(len(y_test)), '% of testing data was classified correctly')"
      ],
      "execution_count": 54,
      "outputs": [
        {
          "output_type": "stream",
          "text": [
            "85.6 % of testing data was classified correctly\n"
          ],
          "name": "stdout"
        }
      ]
    }
  ]
}